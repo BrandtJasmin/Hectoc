{
 "cells": [
  {
   "cell_type": "markdown",
   "metadata": {},
   "source": [
    "# Hectoc"
   ]
  },
  {
   "cell_type": "code",
   "execution_count": 10,
   "metadata": {},
   "outputs": [],
   "source": [
    "!pip install numpy\n",
    "import numpy as np\n",
    "import warnings\n",
    "warnings.filterwarnings(\"error\")"
   ]
  },
  {
   "cell_type": "code",
   "execution_count": 11,
   "metadata": {},
   "outputs": [],
   "source": [
    "# Initialisierungen\n",
    "\n",
    "# Mögliche Operatoren\n",
    "possible_operators = ['+','-','*','/','**', '']\n",
    "\n",
    "# Zahlenpaare, die eingeklammert werden können\n",
    "bracket_pairs = np.array([[[0],[1]],[[0],[2]],[[0],[3]],[[0],[4]],[[1],[2]],[[1],[3]],[[1],[4]],[[1],[5]],[[2],[3]],[[2],[4]],[[2],[5]],[[3],[4]],[[3],[5]],[[4],[5]]])\n",
    "\n",
    "# Startzustand: keine Operatoren, keine Klammern\n",
    "s_start = ['','','','','','0','0','0','0','0','0','0','0','0','0','0','0','0','0']\n",
    "\n",
    "# Ziel des arithmetischen Ausdrucks\n",
    "goal = 100"
   ]
  },
  {
   "cell_type": "code",
   "execution_count": 12,
   "metadata": {},
   "outputs": [],
   "source": [
    "# Erstelle den arithmetischen Ausdruck im aktuellem Status\n",
    "def get_arithmetic_expression(number, operators):\n",
    "    expression = ''\n",
    "    for number_id in range(len(numbers)):\n",
    "        possible_brackets = list(np.where(bracket_pairs==number_id)[0])\n",
    "        for bracket_id in possible_brackets:\n",
    "            if int(operators[len(numbers)-1+bracket_id]) == 1 and bracket_pairs[bracket_id][0]==number_id:\n",
    "                expression += '('\n",
    "        expression += str(numbers[number_id])\n",
    "        for bracket_id in possible_brackets:\n",
    "            if int(operators[len(numbers)-1+bracket_id]) == 1 and bracket_pairs[bracket_id][1]==number_id:\n",
    "                expression += ')'\n",
    "        if number_id != len(numbers)-1 and operators[number_id] != '':\n",
    "            expression += str(operators[number_id])\n",
    "    return expression"
   ]
  },
  {
   "cell_type": "code",
   "execution_count": 13,
   "metadata": {},
   "outputs": [],
   "source": [
    "# Berechne Wert des arithmetischen Ausdrucks im aktuellem Status\n",
    "def calculate_result(numbers, operators):\n",
    "    expression = get_arithmetic_expression(numbers, operators)\n",
    "    result = eval(expression)\n",
    "    return result"
   ]
  },
  {
   "cell_type": "code",
   "execution_count": 14,
   "metadata": {},
   "outputs": [],
   "source": [
    "# Printe den arithmetischen Ausdruck und den entsprechenden Wert des aktuellen Status\n",
    "def print_result(numbers, operators):\n",
    "    expression = get_arithmetic_expression(numbers, operators)\n",
    "    result = eval(expression)\n",
    "    print(expression + \" = \" + str(result))"
   ]
  },
  {
   "cell_type": "code",
   "execution_count": 15,
   "metadata": {},
   "outputs": [],
   "source": [
    "# Prüfe ob der Status zulässig ist\n",
    "def applicable(state, numbers):\n",
    "    # Prüfe ob Wert zu groß für Speicher\n",
    "    if len(np.where(np.array(state) == \"**\")[0]) > 1:\n",
    "        return False \n",
    "    # Prüfe ob Klammern sich überschneiden\n",
    "    brackets = np.where(np.array(state)=='1')[0] - len(numbers)+1\n",
    "    if len(brackets) > 1:\n",
    "        for bracket_1 in brackets:\n",
    "            for bracket_2 in brackets:\n",
    "                if bracket_pairs[bracket_1][0]<bracket_pairs[bracket_2][0] and bracket_pairs[bracket_2][0]<=bracket_pairs[bracket_1][1] and bracket_pairs[bracket_1][1]<bracket_pairs[bracket_2][1]:\n",
    "                    return False\n",
    "                if bracket_pairs[bracket_2][0]<bracket_pairs[bracket_1][0] and bracket_pairs[bracket_1][0]<=bracket_pairs[bracket_2][1] and bracket_pairs[bracket_2][1]<bracket_pairs[bracket_1][1]:\n",
    "                    return False\n",
    "    # Prüfe ob arithmetischer Ausdruck syntaktisch korrekt ist\n",
    "    try:\n",
    "        calculate_result(numbers, state)\n",
    "        return True\n",
    "    except (ZeroDivisionError,SyntaxError,TypeError,OverflowError,RuntimeError):\n",
    "        return False"
   ]
  },
  {
   "cell_type": "code",
   "execution_count": 16,
   "metadata": {},
   "outputs": [],
   "source": [
    "# Breitensuche wie in der Vorlesung\n",
    "def bfs(s_start, numbers, goal):\n",
    "    tree_level=0\n",
    "    itera = 0\n",
    "    visited = []\n",
    "    queue = [(s_start, tree_level)]\n",
    "    while len(queue)>0:\n",
    "        (s,depth) = queue.pop(0)  # Immer das erste Element aus der Queue betrachten: FIFO Prinzip\n",
    "        if depth < len(numbers)-1:  # Füge zuerst Operatoren ein\n",
    "            A = possible_operators\n",
    "        else:                       # Falls notwendig, ergänze Klammern\n",
    "            A = np.where(np.array(s)=='0')[0]\n",
    "        for a in A:\n",
    "            s_n = s.copy()\n",
    "            if depth < len(numbers)-1: \n",
    "                s_n[depth] = a\n",
    "            else:\n",
    "                s_n[a] = '1'\n",
    "            if applicable(s_n, numbers):\n",
    "                if calculate_result(numbers, s_n) == goal:\n",
    "                    return s_n\n",
    "                if depth<len(s_start)-1:\n",
    "                    queue.append((s_n, depth+1))\n",
    "    print('Keine Lösung!')\n",
    "    return None"
   ]
  },
  {
   "cell_type": "markdown",
   "metadata": {},
   "source": [
    "## Teste das Programm:"
   ]
  },
  {
   "cell_type": "code",
   "execution_count": 17,
   "metadata": {},
   "outputs": [
    {
     "name": "stdout",
     "output_type": "stream",
     "text": [
      "3+(1+5)*2*8+1 = 100\n"
     ]
    }
   ],
   "source": [
    "#315281\n",
    "numbers = [3,1,5,2,8,1]\n",
    "result_s = bfs(s_start, numbers, goal)\n",
    "print_result(numbers, result_s)"
   ]
  },
  {
   "cell_type": "code",
   "execution_count": 18,
   "metadata": {},
   "outputs": [
    {
     "name": "stdout",
     "output_type": "stream",
     "text": [
      "4+7+91+1-3 = 100\n"
     ]
    }
   ],
   "source": [
    "#479113\n",
    "numbers = [4,7,9,1,1,3]\n",
    "result_s = bfs(s_start, numbers, goal)\n",
    "print_result(numbers, result_s)"
   ]
  },
  {
   "cell_type": "code",
   "execution_count": 19,
   "metadata": {},
   "outputs": [
    {
     "name": "stdout",
     "output_type": "stream",
     "text": [
      "68+1-1+32 = 100\n"
     ]
    }
   ],
   "source": [
    "#681132\n",
    "numbers = [6,8,1,1,3,2]\n",
    "result_s = bfs(s_start, numbers, goal)\n",
    "print_result(numbers, result_s)"
   ]
  },
  {
   "cell_type": "markdown",
   "metadata": {},
   "source": [
    "### Alternative: Erzwinge zwischen jeder Ziffer einen Operator"
   ]
  },
  {
   "cell_type": "code",
   "execution_count": 20,
   "metadata": {},
   "outputs": [],
   "source": [
    "# Mögliche Operatoren\n",
    "possible_operators = ['+','-','*','/','**']\n",
    "# Startzustand: keine Operatoren, keine Klammern\n",
    "s_start = ['+','+','+','+','+','0','0','0','0','0','0','0','0','0','0','0','0','0','0']"
   ]
  },
  {
   "cell_type": "code",
   "execution_count": 21,
   "metadata": {},
   "outputs": [
    {
     "name": "stdout",
     "output_type": "stream",
     "text": [
      "3+(1+5)*2*8+1 = 100\n"
     ]
    }
   ],
   "source": [
    "#315281\n",
    "numbers = [3,1,5,2,8,1]\n",
    "result_s = bfs(s_start, numbers, goal)\n",
    "print_result(numbers, result_s)"
   ]
  },
  {
   "cell_type": "code",
   "execution_count": 22,
   "metadata": {},
   "outputs": [
    {
     "name": "stdout",
     "output_type": "stream",
     "text": [
      "(4+7)*9+1*1**3 = 100\n"
     ]
    }
   ],
   "source": [
    "#479113\n",
    "numbers = [4,7,9,1,1,3]\n",
    "result_s = bfs(s_start, numbers, goal)\n",
    "print_result(numbers, result_s)"
   ]
  },
  {
   "cell_type": "code",
   "execution_count": 23,
   "metadata": {},
   "outputs": [
    {
     "name": "stdout",
     "output_type": "stream",
     "text": [
      "(6+8-1-1*3)**2 = 100\n"
     ]
    }
   ],
   "source": [
    "#681132\n",
    "numbers = [6,8,1,1,3,2]\n",
    "result_s = bfs(s_start, numbers, goal)\n",
    "print_result(numbers, result_s)"
   ]
  },
  {
   "cell_type": "code",
   "execution_count": null,
   "metadata": {},
   "outputs": [],
   "source": []
  }
 ],
 "metadata": {
  "kernelspec": {
   "display_name": "Python 3",
   "language": "python",
   "name": "python3"
  },
  "language_info": {
   "codemirror_mode": {
    "name": "ipython",
    "version": 3
   },
   "file_extension": ".py",
   "mimetype": "text/x-python",
   "name": "python",
   "nbconvert_exporter": "python",
   "pygments_lexer": "ipython3",
   "version": "3.8.1"
  }
 },
 "nbformat": 4,
 "nbformat_minor": 1
}
